{
  "nbformat": 4,
  "nbformat_minor": 0,
  "metadata": {
    "colab": {
      "name": "Week12.ipynb",
      "provenance": [],
      "authorship_tag": "ABX9TyNogSpzWd19rt9N5ODE7bMf",
      "include_colab_link": true
    },
    "kernelspec": {
      "name": "python3",
      "display_name": "Python 3"
    },
    "language_info": {
      "name": "python"
    }
  },
  "cells": [
    {
      "cell_type": "markdown",
      "metadata": {
        "id": "view-in-github",
        "colab_type": "text"
      },
      "source": [
        "<a href=\"https://colab.research.google.com/github/kevinaldyansyah/PCVK_Genap_2021/blob/main/Week12.ipynb\" target=\"_parent\"><img src=\"https://colab.research.google.com/assets/colab-badge.svg\" alt=\"Open In Colab\"/></a>"
      ]
    },
    {
      "cell_type": "markdown",
      "metadata": {
        "id": "PWr1WgDddnUK"
      },
      "source": [
        "**TUGAS PRAKTIKUM MODUL 12**"
      ]
    },
    {
      "cell_type": "markdown",
      "metadata": {
        "id": "h_Rd2GWKdtZp"
      },
      "source": [
        "**1.   Buka https://colab.research.google.com/. Setelah dipastikan bahwa google Colab \n",
        "terhubung dengan Github Anda, buat notebook baru dan beri nama “Week12.ipynb”. \n",
        "Kemudian import beberapa library dan akses folder yang ada di Drive Anda dengan \n",
        "seperti biasa.**\n"
      ]
    },
    {
      "cell_type": "code",
      "metadata": {
        "id": "Q3FZ8cVJljBs",
        "outputId": "19369d93-f610-47bc-ed0f-698b69a09687",
        "colab": {
          "base_uri": "https://localhost:8080/"
        }
      },
      "source": [
        "from google.colab import drive\n",
        "\n",
        "drive.mount('/content/drive')"
      ],
      "execution_count": 1,
      "outputs": [
        {
          "output_type": "stream",
          "text": [
            "Mounted at /content/drive\n"
          ],
          "name": "stdout"
        }
      ]
    },
    {
      "cell_type": "code",
      "metadata": {
        "id": "9gvLnbX9dDtF"
      },
      "source": [
        "import numpy as np\n",
        "import cv2\n",
        "\n",
        "face_cascade = cv2.CascadeClassifier('/content/drive/MyDrive/PCVK/haarcascades/haarcascade_frontalface_default.xml')\n",
        "eye_cascade = cv2.CascadeClassifier('/content/drive/MyDrive/PCVK/haarcascades/haarcascade_eye.xml')\n",
        "\n",
        "img = cv2.imread('/content/drive/MyDrive/PCVK/facedet/jokowi.jpg')\n",
        "gray = cv2.cvtColor(img, cv2.COLOR_BGR2GRAY) "
      ],
      "execution_count": 7,
      "outputs": []
    },
    {
      "cell_type": "markdown",
      "metadata": {
        "id": "bXaqfUJUdnXS"
      },
      "source": [
        "**2.   Lakukan Face Detection untuk image object lain yang tersedia pada (/images/facedet). \n",
        "Tampilkan seperti pada contoh berikut.**"
      ]
    },
    {
      "cell_type": "code",
      "metadata": {
        "id": "832pLzVneIfQ",
        "outputId": "3ccd6c53-95d9-4904-ac9d-d423bd5ab6d4",
        "colab": {
          "base_uri": "https://localhost:8080/",
          "height": 231
        }
      },
      "source": [
        "roi_wajah = cascade_wajah.detectMultiScale(jokowi) \n",
        "for(x,y,w,h) in roi_wajah: \n",
        "  cv.rectangle(jokowi,(x,y),(x+w,y+h),(255,255,255),3) \n",
        "plt.figure(figsize = (10,10)) \n",
        "plt.imshow(jokowi, cmap='gray') "
      ],
      "execution_count": 5,
      "outputs": [
        {
          "output_type": "error",
          "ename": "NameError",
          "evalue": "ignored",
          "traceback": [
            "\u001b[0;31m---------------------------------------------------------------------------\u001b[0m",
            "\u001b[0;31mNameError\u001b[0m                                 Traceback (most recent call last)",
            "\u001b[0;32m<ipython-input-5-19225dccf968>\u001b[0m in \u001b[0;36m<module>\u001b[0;34m()\u001b[0m\n\u001b[0;32m----> 1\u001b[0;31m \u001b[0mroi_wajah\u001b[0m \u001b[0;34m=\u001b[0m \u001b[0mcascade_wajah\u001b[0m\u001b[0;34m.\u001b[0m\u001b[0mdetectMultiScale\u001b[0m\u001b[0;34m(\u001b[0m\u001b[0mjokowi\u001b[0m\u001b[0;34m)\u001b[0m\u001b[0;34m\u001b[0m\u001b[0;34m\u001b[0m\u001b[0m\n\u001b[0m\u001b[1;32m      2\u001b[0m \u001b[0;32mfor\u001b[0m\u001b[0;34m(\u001b[0m\u001b[0mx\u001b[0m\u001b[0;34m,\u001b[0m\u001b[0my\u001b[0m\u001b[0;34m,\u001b[0m\u001b[0mw\u001b[0m\u001b[0;34m,\u001b[0m\u001b[0mh\u001b[0m\u001b[0;34m)\u001b[0m \u001b[0;32min\u001b[0m \u001b[0mroi_wajah\u001b[0m\u001b[0;34m:\u001b[0m\u001b[0;34m\u001b[0m\u001b[0;34m\u001b[0m\u001b[0m\n\u001b[1;32m      3\u001b[0m   \u001b[0mcv\u001b[0m\u001b[0;34m.\u001b[0m\u001b[0mrectangle\u001b[0m\u001b[0;34m(\u001b[0m\u001b[0mjokowi\u001b[0m\u001b[0;34m,\u001b[0m\u001b[0;34m(\u001b[0m\u001b[0mx\u001b[0m\u001b[0;34m,\u001b[0m\u001b[0my\u001b[0m\u001b[0;34m)\u001b[0m\u001b[0;34m,\u001b[0m\u001b[0;34m(\u001b[0m\u001b[0mx\u001b[0m\u001b[0;34m+\u001b[0m\u001b[0mw\u001b[0m\u001b[0;34m,\u001b[0m\u001b[0my\u001b[0m\u001b[0;34m+\u001b[0m\u001b[0mh\u001b[0m\u001b[0;34m)\u001b[0m\u001b[0;34m,\u001b[0m\u001b[0;34m(\u001b[0m\u001b[0;36m255\u001b[0m\u001b[0;34m,\u001b[0m\u001b[0;36m255\u001b[0m\u001b[0;34m,\u001b[0m\u001b[0;36m255\u001b[0m\u001b[0;34m)\u001b[0m\u001b[0;34m,\u001b[0m\u001b[0;36m3\u001b[0m\u001b[0;34m)\u001b[0m\u001b[0;34m\u001b[0m\u001b[0;34m\u001b[0m\u001b[0m\n\u001b[1;32m      4\u001b[0m \u001b[0mplt\u001b[0m\u001b[0;34m.\u001b[0m\u001b[0mfigure\u001b[0m\u001b[0;34m(\u001b[0m\u001b[0mfigsize\u001b[0m \u001b[0;34m=\u001b[0m \u001b[0;34m(\u001b[0m\u001b[0;36m10\u001b[0m\u001b[0;34m,\u001b[0m\u001b[0;36m10\u001b[0m\u001b[0;34m)\u001b[0m\u001b[0;34m)\u001b[0m\u001b[0;34m\u001b[0m\u001b[0;34m\u001b[0m\u001b[0m\n\u001b[1;32m      5\u001b[0m \u001b[0mplt\u001b[0m\u001b[0;34m.\u001b[0m\u001b[0mimshow\u001b[0m\u001b[0;34m(\u001b[0m\u001b[0mjokowi\u001b[0m\u001b[0;34m,\u001b[0m \u001b[0mcmap\u001b[0m\u001b[0;34m=\u001b[0m\u001b[0;34m'gray'\u001b[0m\u001b[0;34m)\u001b[0m\u001b[0;34m\u001b[0m\u001b[0;34m\u001b[0m\u001b[0m\n",
            "\u001b[0;31mNameError\u001b[0m: name 'cascade_wajah' is not defined"
          ]
        }
      ]
    },
    {
      "cell_type": "markdown",
      "metadata": {
        "id": "bXxXZrzWdnZA"
      },
      "source": [
        "**Perhatikan pada hasil face detection diatas. Secara keseluruhan, face detection \n",
        "dapat dilakukan dengan baik, bahkan untuk image berupa gambar bukan foto, wajah \n",
        "bermasker, atau wajah yang berukuran kecil (solvay)**"
      ]
    },
    {
      "cell_type": "markdown",
      "metadata": {
        "id": "C8lI2_FJdnba"
      },
      "source": [
        "**3.   Pada Soal No.2. wajah kucing tidak bisa dideteksi dengan baik. Lakukan deteksi wajah \n",
        "kucing hingga muncul rectangle pada bagian wajahnya. Petunjuk pada soal ini, \n",
        "perhatikan pretrained features yang telah disediakan OpenCV. Gunakan xml yang ada \n",
        "jika memang telah disediakan. Jika belum ada, coba cari dengan searching melalui \n",
        "search engines.**\n"
      ]
    },
    {
      "cell_type": "code",
      "metadata": {
        "id": "udB3Cak-eQqz"
      },
      "source": [
        ""
      ],
      "execution_count": null,
      "outputs": []
    },
    {
      "cell_type": "markdown",
      "metadata": {
        "id": "M0UL2D2ydnky"
      },
      "source": [
        "**4.   Cobakan juga untuk eyes detection.**\n"
      ]
    },
    {
      "cell_type": "code",
      "metadata": {
        "id": "afvaZqE0eXkb"
      },
      "source": [
        ""
      ],
      "execution_count": null,
      "outputs": []
    },
    {
      "cell_type": "markdown",
      "metadata": {
        "id": "IPkip2AvdnnQ"
      },
      "source": [
        "**5.   Lakukan Face Tracking menggunakan Google Colab. Petunjuk, Tutorial selengkapnya \n",
        "tentang akses kamera dan FaceDetection pada google colab dapat dilihat di link \n",
        "berikut: https://www.youtube.com/watch?v=YjWh7QvVH60**\n"
      ]
    },
    {
      "cell_type": "code",
      "metadata": {
        "id": "qKo-tIF4efe9"
      },
      "source": [
        ""
      ],
      "execution_count": null,
      "outputs": []
    },
    {
      "cell_type": "markdown",
      "metadata": {
        "id": "0lyq2N9Idnp4"
      },
      "source": [
        "\n",
        "\n",
        "**6.   Lakukan Blurring pada bagian wajah yang terdeteksi. Berikut contoh keluarannya. \n",
        "Petunjuk: anda dapat menggunakan cv.medianBlur untuk melakukan Blurring**\n",
        "\n"
      ]
    },
    {
      "cell_type": "code",
      "metadata": {
        "id": "g6O4mGh6el9R"
      },
      "source": [
        ""
      ],
      "execution_count": null,
      "outputs": []
    },
    {
      "cell_type": "markdown",
      "metadata": {
        "id": "88mE4Tttdnsf"
      },
      "source": [
        "**--- SELAMAT BELAJAR ---**"
      ]
    }
  ]
}