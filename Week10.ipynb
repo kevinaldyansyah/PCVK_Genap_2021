{
  "nbformat": 4,
  "nbformat_minor": 0,
  "metadata": {
    "colab": {
      "name": "Week10.ipynb",
      "provenance": [],
      "authorship_tag": "ABX9TyN7McdeIVO211z1bUiFy5n2",
      "include_colab_link": true
    },
    "kernelspec": {
      "name": "python3",
      "display_name": "Python 3"
    },
    "language_info": {
      "name": "python"
    }
  },
  "cells": [
    {
      "cell_type": "markdown",
      "metadata": {
        "id": "view-in-github",
        "colab_type": "text"
      },
      "source": [
        "<a href=\"https://colab.research.google.com/github/kevinaldyansyah/PCVK_Genap_2021/blob/main/Week10.ipynb\" target=\"_parent\"><img src=\"https://colab.research.google.com/assets/colab-badge.svg\" alt=\"Open In Colab\"/></a>"
      ]
    },
    {
      "cell_type": "markdown",
      "metadata": {
        "id": "GxNqeO7tYXH1"
      },
      "source": [
        "# **TUGAS PRAKTIKUM THRESHOLDING**"
      ]
    },
    {
      "cell_type": "markdown",
      "metadata": {
        "id": "Gy3ANDvWYY00"
      },
      "source": [
        "**1.   Buka https://colab.research.google.com/. Setelah dipastikan bahwa google Colab \n",
        "terhubung dengan Github Anda, buat notebook baru dan beri nama “Week10.ipynb”. \n",
        "Kemudian import folder yang ada di Drive Anda dengan cara sebagai berikutl**"
      ]
    },
    {
      "cell_type": "code",
      "metadata": {
        "id": "ydmfnI4KZ7V8"
      },
      "source": [
        ""
      ],
      "execution_count": null,
      "outputs": []
    },
    {
      "cell_type": "markdown",
      "metadata": {
        "id": "iUeBPI7mYoDq"
      },
      "source": [
        "**2.   Import beberapa library berikut yang akan digunakan selama uji coba praktikum \n",
        "minggu ke-6 berikut.**"
      ]
    },
    {
      "cell_type": "code",
      "metadata": {
        "id": "8SHc2gNNZ7rb"
      },
      "source": [
        ""
      ],
      "execution_count": null,
      "outputs": []
    },
    {
      "cell_type": "markdown",
      "metadata": {
        "id": "a4T7L3k8Ytr8"
      },
      "source": [
        "**3.    Buat Global Threshold (BINARY, BINARY_INV, TRUNC, TOZERO, TOZERO_INV) secara \n",
        "manual sesuai dengan deskripsi dari grafik yang ditunjukkan di atas.**"
      ]
    },
    {
      "cell_type": "code",
      "metadata": {
        "id": "KBkWtpmKZ8Ap"
      },
      "source": [
        ""
      ],
      "execution_count": null,
      "outputs": []
    },
    {
      "cell_type": "markdown",
      "metadata": {
        "id": "_9qLsDOeY1ys"
      },
      "source": [
        "**4.    Buat Otsu Thresholding tanpa menggunakan Library. Tampilkan juga nilai threshold \n",
        "saat anda gunakan Otsu’s, seperti terlihat pada gambar hasil berikut. (gunakan image \n",
        "lena_gs_lc2.jpg agar benar2 terlihat beda antara hasil otsu’s dengan global threshold \n",
        "biasa)**"
      ]
    },
    {
      "cell_type": "code",
      "metadata": {
        "id": "jCcglhOJZ8TX"
      },
      "source": [
        ""
      ],
      "execution_count": null,
      "outputs": []
    },
    {
      "cell_type": "markdown",
      "metadata": {
        "id": "-koOu16IY6a6"
      },
      "source": [
        "**5.    Buat histogram dari citra tersegmentasi, Histogram hanya pada foreground image \n",
        "saja. Gunakan image Lily atau Leaves yang sudah disediakan di folder images. Petunjuk:**\n",
        "\n",
        ">> **a. anda dapat gunakan cv.calcHist untuk menampilkan**\n",
        "\n",
        "\n",
        ">> **b. Buka link berikut https://opencv\u0002tutorial.readthedocs.io/en/latest/histogram/histogram.html**\n",
        "\n",
        ">> **c. Dari link tersebut perhatikan bahwa cv.calcHist memiliki salah satu parameter \n",
        "yaitu mask. Jika diset None, maka keseluruhan image akan dihitung \n",
        "histogramnya. Jika kita tentukan mask, maka hanya bagian image yang \n",
        "dimasking warna putih yang akan dihitung histogramnya (dari contoh \n",
        "dibawah dinamakan dengan Citra Segment).**"
      ]
    },
    {
      "cell_type": "code",
      "metadata": {
        "id": "bA5gj-G5Z821"
      },
      "source": [
        ""
      ],
      "execution_count": null,
      "outputs": []
    },
    {
      "cell_type": "markdown",
      "metadata": {
        "id": "5h7iyfvnZMXb"
      },
      "source": [
        "**6.   Lakukan segmentasi warna pada image \"peppers.jpg\", munculkan hanya warna yang \n",
        "kuning saja. (Petunjuk: anda dapat gunakan K-Means untuk menampilkan hanya \n",
        "warna tertentu saja)**\n",
        "\n",
        "\n",
        ">**Saat anda menampilkan warna tertentu, jelaskan kendala yang di hadapi dan mengapa \n",
        "hal itu terjadi.**\n",
        "\n",
        "\n",
        "\n",
        "\n",
        "\n",
        "\n",
        "\n"
      ]
    },
    {
      "cell_type": "code",
      "metadata": {
        "id": "zo78yLloZ9Q3"
      },
      "source": [
        ""
      ],
      "execution_count": null,
      "outputs": []
    },
    {
      "cell_type": "markdown",
      "metadata": {
        "id": "89oXqz1bZ2Q_"
      },
      "source": [
        "**7. Buka File crossword.jpg. Dengan pengetahuan tentang thresholding yang sudah anda \n",
        "pelajari. Lakukan thresholding biner dengan hasil terbaik menurut anda. Copas code \n",
        "dan hasil image di modul ini.**\n"
      ]
    },
    {
      "cell_type": "code",
      "metadata": {
        "id": "KUNdWeIGYJNf"
      },
      "source": [
        ""
      ],
      "execution_count": null,
      "outputs": []
    }
  ]
}